{
 "cells": [
  {
   "cell_type": "code",
   "execution_count": 1,
   "metadata": {},
   "outputs": [],
   "source": [
    "import pandas as pd\n",
    "import numpy as np\n",
    "%matplotlib inline"
   ]
  },
  {
   "cell_type": "markdown",
   "metadata": {},
   "source": [
    "# B | Module Test"
   ]
  },
  {
   "cell_type": "markdown",
   "metadata": {},
   "source": [
    "<!-- BEGIN QUESTION -->\n",
    "\n",
    "## Part I&nbsp;&nbsp;&nbsp;&nbsp;&nbsp;&nbsp;(10 Points)"
   ]
  },
  {
   "cell_type": "code",
   "execution_count": null,
   "metadata": {
    "tags": []
   },
   "outputs": [],
   "source": [
    "# Write your shell commands here\n",
    "mkdir test\n",
    "cd test/\n",
    "touch moduleB\n",
    "git init\n",
    "git add .\n",
    "git commit -m \"comitted moduleB into master\"\n"
   ]
  },
  {
   "cell_type": "markdown",
   "metadata": {},
   "source": [
    "Your solution to this question should **also** include file, submitted alongside this notebook."
   ]
  },
  {
   "cell_type": "markdown",
   "metadata": {},
   "source": [
    "<!-- BEGIN QUESTION -->\n",
    "\n",
    "## Part II&nbsp;&nbsp;&nbsp;&nbsp;&nbsp;&nbsp;(10 Points)"
   ]
  },
  {
   "cell_type": "code",
   "execution_count": null,
   "metadata": {},
   "outputs": [],
   "source": [
    "part_ii.sh :\n",
    "    ##!/bin/sh    \n",
    "    NAME=\"temp\"\n",
    "    word=temp\n",
    "    find . -iname \"*$NAME*\" -type f >> list.txt\n",
    "\n",
    "    grep \"$word\" list.txt | head -10\n"
   ]
  },
  {
   "cell_type": "markdown",
   "metadata": {
    "tags": []
   },
   "source": [
    "Your solution to this question should be a file, submitted alongside this notebook."
   ]
  },
  {
   "cell_type": "markdown",
   "metadata": {},
   "source": [
    "<!-- END QUESTION -->\n",
    "\n",
    "<!-- BEGIN QUESTION -->\n",
    "\n",
    "## Part III&nbsp;&nbsp;&nbsp;&nbsp;&nbsp;&nbsp;(30 Points)"
   ]
  },
  {
   "cell_type": "code",
   "execution_count": 4,
   "metadata": {
    "tags": []
   },
   "outputs": [
    {
     "ename": "NameError",
     "evalue": "name 'b' is not defined",
     "output_type": "error",
     "traceback": [
      "\u001b[1;31m---------------------------------------------------------------------------\u001b[0m",
      "\u001b[1;31mNameError\u001b[0m                                 Traceback (most recent call last)",
      "\u001b[1;32m<ipython-input-4-b74eaba05cf9>\u001b[0m in \u001b[0;36masync-def-wrapper\u001b[1;34m()\u001b[0m\n\u001b[0;32m      5\u001b[0m \u001b[1;33m\u001b[0m\u001b[0m\n\u001b[0;32m      6\u001b[0m \u001b[1;33m\u001b[0m\u001b[0m\n",
      "\u001b[1;31mNameError\u001b[0m: name 'b' is not defined"
     ]
    }
   ],
   "source": [
    "# Write your test cases and comments here\n",
    "#3 unique  test cases are:\n",
    "    \n",
    "    #normal case\n",
    "    assert(type(a)==type(b)== int), \"type should be int\"\n",
    "    #this statement ensures both a and b are integers\n",
    "    \n",
    "    #edge case\n",
    "    assert(a>0), \"a should be greater than 0\"\n",
    "    assert(a>0), \"a should be greater than 0\"\n",
    "    #this statement ensures both a and b are greater thaan 0 for appropriate domain result\n",
    "    \n",
    "    #normal case\n",
    "    assert(result >0), \"please enter input which yields results\"\n",
    "    #this statement ensures program has a result for display\n",
    "\n",
    "\n"
   ]
  },
  {
   "cell_type": "code",
   "execution_count": null,
   "metadata": {
    "tags": []
   },
   "outputs": [],
   "source": [
    "# Write the fixed code here\n",
    "# A program to sum the first n numbers that are divisible by a\n",
    "n=10\n",
    "a=2\n",
    "\n",
    "count = 0\n",
    "i = 1\n",
    "result = 0\n",
    "while count<n:\n",
    "    if i%a == 0:\n",
    "        result+=i\n",
    "        count+=1 #count should be included within the if loop to check get first n numbers divisible by 4\n",
    "                 #or else earlier it was checking numbers till n and getting their sum\n",
    "    i+=1\n"
   ]
  },
  {
   "cell_type": "markdown",
   "metadata": {},
   "source": [
    "Write your debugging steps here\n",
    "import pdb\n",
    "n=10\n",
    "a=2\n",
    "\n",
    "count = 0\n",
    "i = 1\n",
    "result = 0\n",
    "pdb.set_trace()\n",
    "while count<n:\n",
    "    if i%a == 0:\n",
    "            set a breakpoint here and repeatedly press c to traverse the loop to compare changes of  i wrt result \n",
    "        print(result and i)\n",
    "        result+=i\n",
    "    count+=1\n",
    "    i+=1"
   ]
  },
  {
   "cell_type": "markdown",
   "metadata": {},
   "source": [
    "<!-- END QUESTION -->\n",
    "\n",
    "<!-- BEGIN QUESTION -->\n",
    "\n",
    "## Part IV&nbsp;&nbsp;&nbsp;&nbsp;&nbsp;&nbsp;(50 Points)"
   ]
  },
  {
   "cell_type": "code",
   "execution_count": null,
   "metadata": {
    "tags": []
   },
   "outputs": [],
   "source": [
    "# Write your shell commands here\n",
    "\n"
   ]
  },
  {
   "cell_type": "markdown",
   "metadata": {},
   "source": [
    "Your solution to this question should **also** include a file, submitted alongside this notebook."
   ]
  },
  {
   "cell_type": "markdown",
   "metadata": {},
   "source": [
    "<!-- END QUESTION -->\n",
    "\n"
   ]
  }
 ],
 "metadata": {
  "celltoolbar": "Edit Metadata",
  "kernelspec": {
   "display_name": "Python 3",
   "language": "python",
   "name": "python3"
  },
  "language_info": {
   "codemirror_mode": {
    "name": "ipython",
    "version": 3
   },
   "file_extension": ".py",
   "mimetype": "text/x-python",
   "name": "python",
   "nbconvert_exporter": "python",
   "pygments_lexer": "ipython3",
   "version": "3.6.12"
  },
  "varInspector": {
   "cols": {
    "lenName": 16,
    "lenType": 16,
    "lenVar": 40
   },
   "kernels_config": {
    "python": {
     "delete_cmd_postfix": "",
     "delete_cmd_prefix": "del ",
     "library": "var_list.py",
     "varRefreshCmd": "print(var_dic_list())"
    },
    "r": {
     "delete_cmd_postfix": ") ",
     "delete_cmd_prefix": "rm(",
     "library": "var_list.r",
     "varRefreshCmd": "cat(var_dic_list()) "
    }
   },
   "types_to_exclude": [
    "module",
    "function",
    "builtin_function_or_method",
    "instance",
    "_Feature"
   ],
   "window_display": false
  }
 },
 "nbformat": 4,
 "nbformat_minor": 4
}
